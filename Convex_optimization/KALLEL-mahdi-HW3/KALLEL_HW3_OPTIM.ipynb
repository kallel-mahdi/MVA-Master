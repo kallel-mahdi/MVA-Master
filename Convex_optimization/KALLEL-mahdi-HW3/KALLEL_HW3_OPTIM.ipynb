{
  "nbformat": 4,
  "nbformat_minor": 0,
  "metadata": {
    "colab": {
      "name": "KALLEL_HW3_OPTIM.ipynb",
      "provenance": [],
      "collapsed_sections": []
    },
    "kernelspec": {
      "name": "python3",
      "display_name": "Python 3"
    }
  },
  "cells": [
    {
      "cell_type": "markdown",
      "metadata": {
        "id": "wIc35Le5MJ2L"
      },
      "source": [
        "# QUESTION 2 :"
      ]
    },
    {
      "cell_type": "code",
      "metadata": {
        "id": "-zy8q6U-cPw2"
      },
      "source": [
        "import numpy as np\n",
        "import matplotlib.pyplot as plt\n",
        "\n",
        "lamda = 10\n",
        "\n",
        "def phi(A,x):\n",
        "  return  - np.sum(np.log(lamda- A@x))\n",
        "\n",
        "def f(Q,p,x):\n",
        "  return (x.T @ Q @ x + p.T@x)\n",
        "\n",
        "def g(t,Q,A,p,x):\n",
        "\n",
        "  return t*f(Q,p,x) + phi(A,x)"
      ],
      "execution_count": 2,
      "outputs": []
    },
    {
      "cell_type": "markdown",
      "metadata": {
        "id": "dKbPHxwfMbVn"
      },
      "source": [
        "# Note : \n",
        "We implement the cholesky inversion for it being numericaly more stable.\n",
        "\n",
        "When back tracking we have to make sure that we stay inside the domain of our function, otherwise we reduce our step size\n"
      ]
    },
    {
      "cell_type": "code",
      "metadata": {
        "id": "MImu6lvQ_aEz"
      },
      "source": [
        "\n",
        "def gradient(x, Q, p, A, t):\n",
        "    h = 1. / (lamda - A @ x)\n",
        "\n",
        "    return t * (2 * Q @ x + p) + A.T @ h\n",
        "\n",
        "def hessian(x, Q, p, A, t):\n",
        "    h = 1. / (lamda- A @ x)\n",
        "    h = h.reshape(-1)\n",
        "    return 2 * t * Q + A.T @ np.diag(h)**2 @ A\n",
        "\n",
        "\n",
        "def cholesky_inv(X):\n",
        "  # Cholesky decomposition inversion:\n",
        "  c = np.linalg.inv(np.linalg.cholesky(X))\n",
        "  inverse = np.dot(c.T,c)\n",
        "  return inverse"
      ],
      "execution_count": 3,
      "outputs": []
    },
    {
      "cell_type": "code",
      "metadata": {
        "id": "Sth8PibVm4GJ"
      },
      "source": [
        "def backtrack(t,Q,A,p,x,grad,newton_step):\n",
        "  \n",
        "  step =1 \n",
        "  alpha = 0.4\n",
        "  beta = 0.8\n",
        "\n",
        "  while ((lamda - A@ (x + step*newton_step)) <0).any() or g(t,Q,A,p,x + step * newton_step ) > (g(t,Q,A,p,x) + alpha * step * grad.T @ newton_step):\n",
        "\n",
        "    step *= beta\n",
        "\n",
        "  assert ((lamda - A@ (x + step*newton_step)) >0).all()\n",
        "\n",
        "  return step\n",
        "\n",
        "\n",
        "\n",
        "def centering_step(t,Q,A,p,x,eps):\n",
        "\n",
        "  pt_history= []\n",
        "\n",
        "  while True:\n",
        "      \n",
        "    grad=gradient(x, Q, p, A, t)\n",
        "    hess = hessian(x, Q, p, A, t)\n",
        "\n",
        "    inv_hess = cholesky_inv(hess)\n",
        "\n",
        "    newton_dec = grad.T @ inv_hess @ grad\n",
        "\n",
        "    if newton_dec/2 < eps :\n",
        "      break\n",
        "    \n",
        "    newton_step = - inv_hess @ grad\n",
        "      \n",
        "    step_size = backtrack(t,Q,A,p,x,grad,newton_step)\n",
        "\n",
        "    pt_history.append(x)\n",
        "\n",
        "    x = x + step_size * newton_step\n",
        "\n",
        "  \n",
        "  return pt_history\n",
        "  "
      ],
      "execution_count": 40,
      "outputs": []
    },
    {
      "cell_type": "code",
      "metadata": {
        "id": "_0gqT4KD9Di2"
      },
      "source": [
        "def barrier_method(Q,p,A,x,eps,u):\n",
        "  \n",
        "  t=1\n",
        "\n",
        "  d = A.shape[0] ## number of constraints\n",
        "\n",
        "  whole_path = []\n",
        "  \n",
        "  while ( (d/t) > eps):\n",
        "\n",
        "    path = centering_step(t,Q,A,p,x,eps)\n",
        "\n",
        "    whole_path += path\n",
        "    x = path[-1]\n",
        "    t = u*t\n",
        "\n",
        "  return whole_path\n"
      ],
      "execution_count": 41,
      "outputs": []
    },
    {
      "cell_type": "markdown",
      "metadata": {
        "id": "d97B8LiMNBt4"
      },
      "source": [
        "# Question 3\n",
        "\n",
        "Remark : Due to some unknown numerical issues we could not take our epsilon below 1e-14.\n",
        "\n",
        "Answer : From the plot below we see that a $\\mu=2$ takes 35  backtracking steps to converge. A choice of $\\mu=50$ seems wise as it takes 10 steps to converge to optimal value."
      ]
    },
    {
      "cell_type": "code",
      "metadata": {
        "id": "_jjrJ-K1qsig",
        "colab": {
          "base_uri": "https://localhost:8080/",
          "height": 573
        },
        "outputId": "5b4ae200-06ef-4139-e351-46124817b5a2"
      },
      "source": [
        "def get_sample(n=10,d=100):\n",
        "    \n",
        "    X =  np.random.randn(n, d)\n",
        "    y =  np.random.randn(n).reshape(-1,1)\n",
        "\n",
        "    Q = np.eye(n) / 2\n",
        "    p = - y\n",
        "\n",
        "    A = np.concatenate((X.T, - X.T), axis=0)\n",
        "\n",
        "    x0 = np.zeros(n).reshape(-1,1)\n",
        "\n",
        "    return Q,p,A,x0\n",
        "\n",
        "\n",
        "us = [2,15,50,100,1000]\n",
        "\n",
        "Q,p,A,x = get_sample()\n",
        "\n",
        "eps = 1e-14\n",
        "\n",
        "\n",
        "plt.figure(figsize=(12,8))\n",
        "for u in us:\n",
        "  print(\"u=\",u)\n",
        "  path=barrier_method(Q,p,A,x,eps,u=u)\n",
        "  ys = [np.squeeze(f(Q,p,x)) for x in path]\n",
        "  plt.semilogy(ys-ys[-1],label='mu ='+str(u))\n",
        "\n",
        "plt.legend()\n",
        "plt.show()"
      ],
      "execution_count": 46,
      "outputs": [
        {
          "output_type": "stream",
          "text": [
            "u= 2\n",
            "u= 15\n",
            "u= 50\n",
            "u= 100\n",
            "u= 1000\n"
          ],
          "name": "stdout"
        },
        {
          "output_type": "display_data",
          "data": {
            "image/png": "[encoded data removed]",
            "text/plain": [
              "<Figure size 864x576 with 1 Axes>"
            ]
          },
          "metadata": {
            "tags": [],
            "needs_background": "light"
          }
        }
      ]
    }
  ]
}