{
  "nbformat": 4,
  "nbformat_minor": 0,
  "metadata": {
    "colab": {
      "name": "script_ipynb.ipynb",
      "provenance": []
    },
    "kernelspec": {
      "name": "python3",
      "display_name": "Python 3"
    },
    "language_info": {
      "name": "python"
    }
  },
  "cells": [
    {
      "cell_type": "code",
      "metadata": {
        "colab": {
          "base_uri": "https://localhost:8080/"
        },
        "id": "eDXz-fnP0ogM",
        "outputId": "eb466bcd-4d84-4ecf-a7c6-8524931b86e2"
      },
      "source": [
        "!git clone https://github.com/kallel-mahdi/Kernel_Methods_Challenge2021"
      ],
      "execution_count": 1,
      "outputs": [
        {
          "output_type": "stream",
          "text": [
            "Cloning into 'Kernel_Methods_Challenge2021'...\n",
            "remote: Enumerating objects: 27, done.\u001b[K\n",
            "remote: Counting objects: 100% (27/27), done.\u001b[K\n",
            "remote: Compressing objects: 100% (22/22), done.\u001b[K\n",
            "remote: Total 27 (delta 5), reused 27 (delta 5), pack-reused 0\u001b[K\n",
            "Unpacking objects: 100% (27/27), done.\n"
          ],
          "name": "stdout"
        }
      ]
    },
    {
      "cell_type": "code",
      "metadata": {
        "colab": {
          "base_uri": "https://localhost:8080/"
        },
        "id": "3HDU2w6C0p-M",
        "outputId": "f6b396e9-68aa-4e25-c9df-da6a2f12063f"
      },
      "source": [
        "%cd Kernel_Methods_Challenge2021\n"
      ],
      "execution_count": 2,
      "outputs": [
        {
          "output_type": "stream",
          "text": [
            "/content/Kernel_Methods_Challenge2021\n"
          ],
          "name": "stdout"
        }
      ]
    },
    {
      "cell_type": "code",
      "metadata": {
        "colab": {
          "base_uri": "https://localhost:8080/"
        },
        "id": "ZVRVy9Yw0vl4",
        "outputId": "c2f88832-dbeb-468d-95e0-5bc08e36ecb6"
      },
      "source": [
        "!python script.py"
      ],
      "execution_count": null,
      "outputs": [
        {
          "output_type": "stream",
          "text": [
            "2800it [00:00, 5736.09it/s]\n",
            "2800it [00:00, 5722.60it/s]\n",
            "2727it [00:18, 150.27it/s]"
          ],
          "name": "stdout"
        }
      ]
    }
  ]
}